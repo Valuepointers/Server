{
 "cells": [
  {
   "cell_type": "code",
   "execution_count": 1,
   "id": "5c7cf864",
   "metadata": {},
   "outputs": [],
   "source": [
    "from selenium import webdriver\n",
    "from selenium.webdriver.common.by import By\n",
    "from selenium.webdriver.support.ui import WebDriverWait\n",
    "from selenium.webdriver.support import expected_conditions as EC\n",
    "from selenium.webdriver.support.ui import Select\n",
    "from bs4 import BeautifulSoup\n",
    "import time\n",
    "import pandas as pd\n",
    "from datetime import datetime\n",
    "import requests"
   ]
  },
  {
   "cell_type": "code",
   "execution_count": 2,
   "id": "3d97f7d7",
   "metadata": {},
   "outputs": [],
   "source": [
    "import os\n",
    "os.environ.setdefault(\"DJANGO_SETTINGS_MODULE\",\"config.settings\")\n",
    "import django\n",
    "django.setup()\n",
    "os.environ[\"DJANGO_ALLOW_ASYNC_UNSAFE\"] = \"true\""
   ]
  },
  {
   "cell_type": "code",
   "execution_count": 3,
   "id": "de7e56a3",
   "metadata": {},
   "outputs": [],
   "source": [
    "import django\n",
    "from django.conf import settings\n",
    "import tester\n",
    "from tester.models import Company"
   ]
  },
  {
   "cell_type": "markdown",
   "id": "91e80ffe",
   "metadata": {},
   "source": [
    "## stock 자체 정보"
   ]
  },
  {
   "cell_type": "code",
   "execution_count": 4,
   "id": "89f7a6e0",
   "metadata": {},
   "outputs": [],
   "source": [
    "def get_info(name):\n",
    "    url = \"https://stockanalysis.com/stocks/\" + name + \"/company/\"\n",
    "    response = requests.get(url)\n",
    "    soup = BeautifulSoup(response.text, 'html.parser')\n",
    "    tables = soup.find_all('table', class_='w-full')\n",
    "\n",
    "        \n",
    "    # 테이블 내의 모든 행을 선택합니다.\n",
    "    info = {\n",
    "            \n",
    "        }\n",
    "    try:\n",
    "        rows = tables[0].find_all('tr')\n",
    "\n",
    "        # 각 행에서 데이터를 가져와 출력합니다.\n",
    "        \n",
    "        for row in rows:\n",
    "            columns = row.find_all('td')\n",
    "            key = columns[0].text\n",
    "            value = columns[1].text\n",
    "            info[key] = value\n",
    "    except:\n",
    "        info = {\n",
    "            \n",
    "        }\n",
    "    \n",
    "    stock_details = {\n",
    "            \n",
    "        }\n",
    "    try:\n",
    "        rows = tables[2].find_all('tr')\n",
    "        for row in rows:\n",
    "            columns = row.find_all('td')\n",
    "            key = columns[0].text\n",
    "            value = columns[1].text\n",
    "            stock_details[key] = value\n",
    "    except:\n",
    "        stock_details = {\n",
    "            \n",
    "        }\n",
    "    return info, stock_details\n"
   ]
  },
  {
   "cell_type": "code",
   "execution_count": 5,
   "id": "3a4d0eab",
   "metadata": {},
   "outputs": [
    {
     "data": {
      "text/plain": [
       "{'Country': 'United States',\n",
       " 'Founded': '1977',\n",
       " 'IPO Date': 'Dec 12, 1980',\n",
       " 'Industry': 'Consumer Electronics',\n",
       " 'Sector': 'Technology',\n",
       " 'Employees': '161,000',\n",
       " 'CEO': 'Timothy D. Cook',\n",
       " 'Ticker Symbol': 'AAPL',\n",
       " 'Exchange': 'NASDAQ',\n",
       " 'Fiscal Year': 'October - September',\n",
       " 'Reporting Currency': 'USD',\n",
       " 'CIK Code': '0000320193',\n",
       " 'CUSIP Number': '037833100',\n",
       " 'ISIN Number': 'US0378331005',\n",
       " 'Employer ID': '94-2404110',\n",
       " 'SIC Code': '3571'}"
      ]
     },
     "execution_count": 5,
     "metadata": {},
     "output_type": "execute_result"
    }
   ],
   "source": [
    "name = 'aapl'\n",
    "info, stock = get_info(name)\n",
    "info.update(stock)\n",
    "info"
   ]
  },
  {
   "cell_type": "code",
   "execution_count": 6,
   "id": "a3768f00",
   "metadata": {},
   "outputs": [],
   "source": [
    "entry = Company(\n",
    "    country=info['Country'],\n",
    "    founded=info['Founded'],\n",
    "    ipo_date=info['IPO Date'],\n",
    "    industry=info['Industry'],\n",
    "    sector=info['Sector'],\n",
    "    employees=info['Employees'],\n",
    "    ceo=info['CEO'],\n",
    "    ticker_symbol=info['Ticker Symbol'],\n",
    "    exchange=info['Exchange'],\n",
    "    fiscal_year = info['Fiscal Year'],\n",
    "    reporting_currency = info['Reporting Currency'],\n",
    "    cik_code = info['CIK Code'],\n",
    "    cusip_number = info['CUSIP Number'],\n",
    "    isin_number = info['ISIN Number'],\n",
    "    employer_id = info['Employer ID'],\n",
    "    sic_code = info['SIC Code'],\n",
    "    # 나머지 필드들도 추가해주세요\n",
    ")\n",
    "entry.save()"
   ]
  },
  {
   "cell_type": "markdown",
   "id": "add2ba7f",
   "metadata": {},
   "source": [
    "## Business Model"
   ]
  },
  {
   "cell_type": "markdown",
   "id": "4a871c5e",
   "metadata": {},
   "source": []
  }
 ],
 "metadata": {
  "kernelspec": {
   "display_name": "Python 3 (ipykernel)",
   "language": "python",
   "name": "python3"
  },
  "language_info": {
   "codemirror_mode": {
    "name": "ipython",
    "version": 3
   },
   "file_extension": ".py",
   "mimetype": "text/x-python",
   "name": "python",
   "nbconvert_exporter": "python",
   "pygments_lexer": "ipython3",
   "version": "3.8.18"
  },
  "toc": {
   "base_numbering": 1,
   "nav_menu": {},
   "number_sections": true,
   "sideBar": true,
   "skip_h1_title": true,
   "title_cell": "Table of Contents",
   "title_sidebar": "Contents",
   "toc_cell": true,
   "toc_position": {
    "height": "calc(100% - 180px)",
    "left": "10px",
    "top": "150px",
    "width": "341.458px"
   },
   "toc_section_display": true,
   "toc_window_display": true
  }
 },
 "nbformat": 4,
 "nbformat_minor": 5
}
